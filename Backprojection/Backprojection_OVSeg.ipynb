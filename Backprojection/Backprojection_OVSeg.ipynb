{
 "cells": [
  {
   "cell_type": "markdown",
   "id": "04f6e1dd-1717-424a-91f2-f2a8f0e7b01a",
   "metadata": {
    "tags": []
   },
   "source": [
    "## Prerequisites\n",
    "Before running this notebook, make sure you have masked all frames using OVSeg (with numbers in the file name) and make sure you have the following folder structure:\n",
    "```\n",
    "├── Backprojection_OVSeg.ipynb\n",
    "└── PROJECT\n",
    "    ├── masked_images                    //Output frames from OVSeg (numbered from 1...n)\n",
    "        └── ...\n",
    "    ├── Model                            //Output folder from COLMAP\n",
    "        ├── cameras.txt \n",
    "        ├── images.txt\n",
    "        ├── points3D.txt\n",
    "        └── project.ini\n",
    "    ├── Model_Original                   //Backup copy of COLMAP output\n",
    "        ├── cameras.txt\n",
    "        ├── images.txt\n",
    "        ├── points3D.txt\n",
    "        └── project.ini\n",
    "    └── DB.db                            //Database needed in COLMAP\n",
    "```"
   ]
  },
  {
   "cell_type": "markdown",
   "id": "e2170f5b-3ed0-4675-8c87-bef1ebcc8a9d",
   "metadata": {},
   "source": [
    "## GLOBAL VARIABLES"
   ]
  },
  {
   "cell_type": "code",
   "execution_count": null,
   "id": "4ab4ef15-54c6-488e-b353-5f79dede4ecb",
   "metadata": {},
   "outputs": [],
   "source": [
    "WIDTH = 1920\n",
    "HEIGHT = 1080\n",
    "START_FRAME = 0\n",
    "END_FRAME = 9018\n",
    "#This should just be the name of the folder containing all the things shown above\n",
    "PROJECT = \"_FINAL\""
   ]
  },
  {
   "cell_type": "markdown",
   "id": "05e3c496-926e-4672-b7e6-b2b2a11dee48",
   "metadata": {
    "tags": []
   },
   "source": [
    "## Imports"
   ]
  },
  {
   "cell_type": "code",
   "execution_count": null,
   "id": "1c30d7ce-2720-4be0-8c94-fff7d26bd649",
   "metadata": {},
   "outputs": [],
   "source": [
    "# System libs\n",
    "import os, csv, torch, numpy, scipy.io, PIL.Image, cv2 \n",
    "from tqdm.notebook import tqdm\n",
    "import numpy as np"
   ]
  },
  {
   "cell_type": "markdown",
   "id": "80a11090-1501-4ade-a910-bf6c294634c2",
   "metadata": {
    "tags": []
   },
   "source": [
    "## Preparing Segmentation"
   ]
  },
  {
   "cell_type": "code",
   "execution_count": null,
   "id": "d470a284-5f81-4d90-839d-2e2462b088cb",
   "metadata": {},
   "outputs": [],
   "source": [
    "# Dictionary used to not having to store RGB values but corresponding temporary labels (mainly to save RAM)\n",
    "dict_RGB_to_label = {\n",
    "  tuple([254,   0,   0]) : 0,\n",
    "  tuple([  0,   0, 254]) : 1,\n",
    "  tuple([  0, 255,   1]) : 2,\n",
    "  tuple([255, 255,   0]) : 3,\n",
    "  tuple([  0, 255, 255]) : 4,\n",
    "  tuple([255,   0, 254]) : 5,\n",
    "  tuple([174,   0, 255]) : 6,\n",
    "  tuple([255, 176,   1]) : 7,\n",
    "  tuple([255,  93,   0]) : 8,\n",
    "  tuple([  0, 255, 199]) : 9,\n",
    "  tuple([139,  64, 191]) : 10,\n",
    "  tuple([239, 174,  32]) : 11,\n",
    "  tuple([ 64, 129,  99]) : 12,\n",
    "  tuple([150,  60,  98]) : 13, \n",
    "}\n",
    "\n",
    "# Dictionary used to recolour pointcloud according to class colours\n",
    "dict_label_to_RGB = {\n",
    "  0 : [255,   0,   0],\n",
    "  1 : [  0,   0, 255],\n",
    "  2 : [  0, 255,   0],\n",
    "  3 : [255, 255,   0],\n",
    "  4 : [  0, 255, 255],\n",
    "  5 : [255,   0, 255],\n",
    "  6 : [173,   0, 255],\n",
    "  7 : [255, 176,   0],\n",
    "  8 : [255,  93,   0],\n",
    "  9 : [  0, 255, 198],\n",
    "  10 : [138,  64, 191],\n",
    "  11 : [239, 174,  31],\n",
    "  12 : [ 64, 128,  99],\n",
    "  13 : [150,  60,  99],\n",
    "}"
   ]
  },
  {
   "cell_type": "code",
   "execution_count": null,
   "id": "c8d950bd-70a8-40c4-8ce9-e1b12f1080d0",
   "metadata": {},
   "outputs": [],
   "source": [
    "# This stores all frames as one 3D numpy array of labels (we don't stpre RGB values to save storage)\n",
    "# WARNING: You need around 18GB of RAM if the video has around 9000 frames \n",
    "\n",
    "# Helper function that replaces RGB values with corresponding label number (if the colour belongs to defined class-colour)\n",
    "def better_getter(r,g,b):\n",
    "    tmp = (r,g,b)\n",
    "    return dict_RGB_to_label.get(tmp, 42)\n",
    "\n",
    "# Empty array that stores the labels of all pixels of all frames\n",
    "predictions = np.empty((END_FRAME - START_FRAME, HEIGHT, WIDTH),dtype=np.uint8)\n",
    "\n",
    "# Store each frame as 2D label array in corresponding \"layer\" of predictions array\n",
    "for i in tqdm(range(START_FRAME, END_FRAME)):\n",
    "    # ADJUST IMAGE PATH HERE:\n",
    "    image_name = PROJECT + \"/masked_images/frame_id_\" + f'{i+1:04d}' + \".jpg\"\n",
    "    image = np.array(cv2.imread(image_name)[:,:, ::-1], dtype=np.uint8)\n",
    "    predictions[i] = np.vectorize(better_getter)(image[:,:,0], image[:,:,1], image[:,:,2])\n",
    "    \n",
    "print(predictions.shape)\n",
    "\n",
    "# Save array to make repeated runs faster\n",
    "np.save(PROJECT +'/' + PROJECT +'_RGB_masks_ASDF', predictions)"
   ]
  },
  {
   "cell_type": "code",
   "execution_count": null,
   "id": "47255d60-864a-491c-bb7f-58aca46ee297",
   "metadata": {},
   "outputs": [],
   "source": [
    "# Load predictions ONLY if you haven't freshly created them\n",
    "predictions = np.load(PROJECT +\"/\" + PROJECT +\"_RGB_masks.npy\")\n",
    "print(predictions.shape)"
   ]
  },
  {
   "cell_type": "markdown",
   "id": "604c078e-8fdf-4c38-afb4-cd6b4803555f",
   "metadata": {},
   "source": [
    "## Colouring 3D Points"
   ]
  },
  {
   "cell_type": "code",
   "execution_count": null,
   "id": "d5d1b484-81e0-4a68-891d-0160f489e0bd",
   "metadata": {},
   "outputs": [],
   "source": [
    "# COLMAP helper functions, taken from here: https://github.com/colmap/colmap/blob/dev/scripts/python/read_write_model.py\n",
    "\n",
    "import os\n",
    "import collections\n",
    "import numpy as np\n",
    "import struct\n",
    "import argparse\n",
    "\n",
    "BaseImage = collections.namedtuple(\n",
    "    \"Image\", [\"id\", \"qvec\", \"tvec\", \"camera_id\", \"name\", \"xys\", \"point3D_ids\"])\n",
    "Point3D = collections.namedtuple(\n",
    "    \"Point3D\", [\"id\", \"xyz\", \"rgb\", \"error\", \"image_ids\", \"point2D_idxs\"])\n",
    "\n",
    "class Image(BaseImage):\n",
    "    def qvec2rotmat(self):\n",
    "        return qvec2rotmat(self.qvec)\n",
    "\n",
    "def qvec2rotmat(qvec):\n",
    "    return np.array([\n",
    "        [1 - 2 * qvec[2]**2 - 2 * qvec[3]**2,\n",
    "         2 * qvec[1] * qvec[2] - 2 * qvec[0] * qvec[3],\n",
    "         2 * qvec[3] * qvec[1] + 2 * qvec[0] * qvec[2]],\n",
    "        [2 * qvec[1] * qvec[2] + 2 * qvec[0] * qvec[3],\n",
    "         1 - 2 * qvec[1]**2 - 2 * qvec[3]**2,\n",
    "         2 * qvec[2] * qvec[3] - 2 * qvec[0] * qvec[1]],\n",
    "        [2 * qvec[3] * qvec[1] - 2 * qvec[0] * qvec[2],\n",
    "         2 * qvec[2] * qvec[3] + 2 * qvec[0] * qvec[1],\n",
    "         1 - 2 * qvec[1]**2 - 2 * qvec[2]**2]])    \n",
    "\n",
    "    \n",
    "def read_points3D_text(path):\n",
    "    points3D = {}\n",
    "    with open(path, \"r\") as fid:\n",
    "        while True:\n",
    "            line = fid.readline()\n",
    "            if not line:\n",
    "                break\n",
    "            line = line.strip()\n",
    "            if len(line) > 0 and line[0] != \"#\":\n",
    "                elems = line.split()\n",
    "                point3D_id = int(elems[0])\n",
    "                xyz = np.array(tuple(map(float, elems[1:4])))\n",
    "                rgb = np.array(tuple(map(int, elems[4:7])))\n",
    "                error = float(elems[7])\n",
    "                image_ids = np.array(tuple(map(int, elems[8::2])))\n",
    "                point2D_idxs = np.array(tuple(map(int, elems[9::2])))\n",
    "                points3D[point3D_id] = Point3D(id=point3D_id, xyz=xyz, rgb=rgb,\n",
    "                                               error=error, image_ids=image_ids,\n",
    "                                               point2D_idxs=point2D_idxs)\n",
    "    return points3D\n",
    "\n",
    "def read_images_text(path):\n",
    "    images = {}\n",
    "    with open(path, \"r\") as fid:\n",
    "        while True:\n",
    "            line = fid.readline()\n",
    "            if not line:\n",
    "                break\n",
    "            line = line.strip()\n",
    "            if len(line) > 0 and line[0] != \"#\":\n",
    "                elems = line.split()\n",
    "                image_id = int(elems[0])\n",
    "                qvec = np.array(tuple(map(float, elems[1:5])))\n",
    "                tvec = np.array(tuple(map(float, elems[5:8])))\n",
    "                camera_id = int(elems[8])\n",
    "                image_name = elems[9]\n",
    "                elems = fid.readline().split()\n",
    "                xys = np.column_stack([tuple(map(float, elems[0::3])),\n",
    "                                       tuple(map(float, elems[1::3]))])\n",
    "                point3D_ids = np.array(tuple(map(int, elems[2::3])))\n",
    "                images[image_id] = Image(\n",
    "                    id=image_id, qvec=qvec, tvec=tvec,\n",
    "                    camera_id=camera_id, name=image_name,\n",
    "                    xys=xys, point3D_ids=point3D_ids)\n",
    "    return images\n",
    "\n",
    "def write_points3D_text(points3D, path):\n",
    "    if len(points3D) == 0:\n",
    "        mean_track_length = 0\n",
    "    else:\n",
    "        mean_track_length = sum((len(pt.image_ids) for _, pt in points3D.items()))/len(points3D)\n",
    "    HEADER = \"# 3D point list with one line of data per point:\\n\" + \\\n",
    "             \"#   POINT3D_ID, X, Y, Z, R, G, B, ERROR, TRACK[] as (IMAGE_ID, POINT2D_IDX)\\n\" + \\\n",
    "             \"# Number of points: {}, mean track length: {}\\n\".format(len(points3D), mean_track_length)\n",
    "\n",
    "    with open(path, \"w\") as fid:\n",
    "        fid.write(HEADER)\n",
    "        for _, pt in tqdm(points3D.items()):\n",
    "            point_header = [pt.id, *pt.xyz, *pt.rgb, pt.error]\n",
    "            fid.write(\" \".join(map(str, point_header)) + \" \")\n",
    "            track_strings = []\n",
    "            for image_id, point2D in zip(pt.image_ids, pt.point2D_idxs):\n",
    "                track_strings.append(\" \".join(map(str, [image_id, point2D])))\n",
    "            fid.write(\" \".join(track_strings) + \"\\n\")"
   ]
  },
  {
   "cell_type": "markdown",
   "id": "38e337d0-5cc7-460b-b2a6-634bfe784259",
   "metadata": {
    "tags": []
   },
   "source": [
    "### Loading COLMAP .txt files"
   ]
  },
  {
   "cell_type": "code",
   "execution_count": null,
   "id": "be2d2387-b145-4e3c-bcd3-3baad81baec1",
   "metadata": {},
   "outputs": [],
   "source": [
    "pts = read_points3D_text(PROJECT + \"/Model/points3D.txt\")\n",
    "# Copy to keep original points clean up until just before overwriting\n",
    "res_pts = pts.copy()\n",
    "ims = read_images_text(PROJECT + \"/Model/images.txt\")"
   ]
  },
  {
   "cell_type": "markdown",
   "id": "7f9e913f-176c-45d0-a34e-d5a35014dd19",
   "metadata": {},
   "source": [
    "### Create all possible mapping from 3D points to other information"
   ]
  },
  {
   "cell_type": "code",
   "execution_count": null,
   "id": "c2bc90f4-ca99-4b9e-91d8-c67b44a8118e",
   "metadata": {},
   "outputs": [],
   "source": [
    "# Create all necessary of dictionaries; \"3D\" means the ID of a 3D pt\n",
    "\n",
    "# Create first dictionary going from point-ID to all contributing imageIDs and their pixel coordinates\n",
    "dict_3D_to_imageIDs = {}\n",
    "for k in tqdm(pts.keys()):\n",
    "    dict_3D_to_imageIDs[k] = np.column_stack((pts[k].image_ids,pts[k].point2D_idxs))\n",
    "                                             #Left: imageId, right: index of x,y\n",
    "\n",
    "print(len(pts.keys()))\n",
    "\n",
    "# Create second dictionary going from point-ID to filename, imageID and pixel coordinates\n",
    "dict_3D_to_imageName_XY = {}\n",
    "for k in tqdm(dict_3D_to_imageIDs.keys()):\n",
    "    #Make list for all corresponding images\n",
    "    dict_3D_to_imageName_XY[k] = []\n",
    "    for tup in dict_3D_to_imageIDs[k]:\n",
    "        #For all images mentioend in 3D point, get tuple of name, imageID and X,Y\n",
    "        dict_3D_to_imageName_XY[k].append((ims[tup[0]].name, tup[1], list(np.rint(ims[tup[0]].xys[tup[1]]).astype(int))))\n",
    "      \n",
    "\n",
    "\n",
    "print(len(dict_3D_to_imageIDs.keys()))\n",
    "\n",
    "import re\n",
    "\n",
    "# Create dictionary going from pointID to all class labels for this point (used to later vote for the most common one)\n",
    "dict_3D_to_lbl = {}\n",
    "for k in tqdm(dict_3D_to_imageName_XY):\n",
    "    lbl_list = []\n",
    "    for trip in dict_3D_to_imageName_XY[k]:\n",
    "        # Extract frame number from image name (e.g., \"out23.png\" -> 23)\n",
    "        frame_number = int(re.search(r'\\d+', trip[0]).group())\n",
    "        # Get pixel coordinates\n",
    "        x = trip[2][0]-1\n",
    "        y = trip[2][1]-1\n",
    "        # Get pixel label\n",
    "        lbl = predictions[int(frame_number)-1][y][x]\n",
    "        \n",
    "        #Supression: only count votes for classes that were used for segmentation\n",
    "        if(lbl < 42):\n",
    "            lbl_list.append(lbl)\n",
    "    dict_3D_to_lbl[k] = lbl_list  \n",
    "    \n",
    "    \n",
    "# Helper function used to get most common class label for each point\n",
    "from collections import Counter\n",
    "def Most_Common(lst):\n",
    "    if (lst):        \n",
    "        data = Counter(lst)\n",
    "        return int(data.most_common(1)[0][0])\n",
    "\n",
    "\n",
    "# For each pointID get most common label\n",
    "dict_3D_to_SINGLE_LABEL = {}\n",
    "for k in tqdm(dict_3D_to_lbl.keys()):\n",
    "    # Use voting strategy on each label list\n",
    "    dict_3D_to_SINGLE_LABEL[k] = Most_Common(dict_3D_to_lbl[k])\n",
    "    \n",
    "print(len(dict_3D_to_SINGLE_LABEL.keys()))  "
   ]
  },
  {
   "cell_type": "markdown",
   "id": "103465d7-6783-4cc8-bdb5-0d459a4750ab",
   "metadata": {},
   "source": [
    "## Creating mapping from 3D ID to final segmentation colour"
   ]
  },
  {
   "cell_type": "code",
   "execution_count": null,
   "id": "8a5f710f-c3c0-4084-a1cb-4c85a1757c91",
   "metadata": {},
   "outputs": [],
   "source": [
    "# This prepares the colours of all segmented points\n",
    "\n",
    "# For each pointID get colour of corresponding class that got voted\n",
    "dict_3D_to_RGB = {}\n",
    "for k in tqdm(dict_3D_to_SINGLE_LABEL.keys()):\n",
    "    #Only change colour if label list has voted for at least one label (otherwise errors occur)\n",
    "    if (dict_3D_to_SINGLE_LABEL[k]):\n",
    "        dict_3D_to_RGB[k] = dict_label_to_RGB[dict_3D_to_SINGLE_LABEL[k]]\n",
    "\n",
    "print(len(dict_3D_to_SINGLE_LABEL.keys()))    \n",
    "\n",
    "        \n",
    "keys = dict_3D_to_RGB.keys()\n",
    "\n",
    "# Make all points black (that way any non-segmented points are black)\n",
    "for k in tqdm(res_pts.keys()):\n",
    "    res_pts[k] = res_pts[k]._replace(rgb=[0, 0, 0])\n",
    "\n",
    "# Now, go over all segmented points and colour the point according to the class RGB value\n",
    "for k in tqdm(keys):\n",
    "    if(dict_3D_to_SINGLE_LABEL[k]):\n",
    "        res_pts[k] = res_pts[k]._replace(rgb=dict_3D_to_RGB[k])"
   ]
  },
  {
   "cell_type": "code",
   "execution_count": null,
   "id": "641b99ed-a0be-4e30-b502-71da327a804e",
   "metadata": {},
   "outputs": [],
   "source": [
    "# Write the points to the original .txt file and show the percentage of segmented points\n",
    "write_points3D_text(res_pts, PROJECT +\"/Model/points3D.txt\")\n",
    "print(str(len(dict_3D_to_RGB)) + \" segmented points out of \" + str(len(pts)) + \" total points = \" +  str(100 * len(dict_3D_to_RGB) / len(pts)) + \"%% segmented\")"
   ]
  }
 ],
 "metadata": {
  "kernelspec": {
   "display_name": "Python 3 (ipykernel)",
   "language": "python",
   "name": "python3"
  },
  "language_info": {
   "codemirror_mode": {
    "name": "ipython",
    "version": 3
   },
   "file_extension": ".py",
   "mimetype": "text/x-python",
   "name": "python",
   "nbconvert_exporter": "python",
   "pygments_lexer": "ipython3",
   "version": "3.10.9"
  }
 },
 "nbformat": 4,
 "nbformat_minor": 5
}
