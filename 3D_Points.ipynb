{
 "cells": [
  {
   "cell_type": "markdown",
   "id": "1fb11f98-9149-4908-84b2-ff7a81354fdd",
   "metadata": {},
   "source": [
    "# Coloured Semantic 3D points\n",
    "## Prerequisites:\n",
    "Text-files from Sparse reconstruction:\n",
    "- points3D.txt\n",
    "- images.txt\n",
    "\n",
    "\n",
    "ADEK20K segmentation of every frame:\n",
    "- segmentation_offset10.npy"
   ]
  },
  {
   "cell_type": "markdown",
   "id": "97ff9ff7-5882-4875-8fcb-40cf441301e2",
   "metadata": {},
   "source": [
    "## Premade funtions (COLMAP)"
   ]
  },
  {
   "cell_type": "code",
   "execution_count": 30,
   "id": "440b7b35-169f-4441-8aad-a4cbdaebd245",
   "metadata": {},
   "outputs": [],
   "source": [
    "import os\n",
    "import collections\n",
    "import numpy as np\n",
    "import struct\n",
    "import argparse\n",
    "\n",
    "BaseImage = collections.namedtuple(\n",
    "    \"Image\", [\"id\", \"qvec\", \"tvec\", \"camera_id\", \"name\", \"xys\", \"point3D_ids\"])\n",
    "Point3D = collections.namedtuple(\n",
    "    \"Point3D\", [\"id\", \"xyz\", \"rgb\", \"error\", \"image_ids\", \"point2D_idxs\"])\n",
    "\n",
    "class Image(BaseImage):\n",
    "    def qvec2rotmat(self):\n",
    "        return qvec2rotmat(self.qvec)\n",
    "\n",
    "def qvec2rotmat(qvec):\n",
    "    return np.array([\n",
    "        [1 - 2 * qvec[2]**2 - 2 * qvec[3]**2,\n",
    "         2 * qvec[1] * qvec[2] - 2 * qvec[0] * qvec[3],\n",
    "         2 * qvec[3] * qvec[1] + 2 * qvec[0] * qvec[2]],\n",
    "        [2 * qvec[1] * qvec[2] + 2 * qvec[0] * qvec[3],\n",
    "         1 - 2 * qvec[1]**2 - 2 * qvec[3]**2,\n",
    "         2 * qvec[2] * qvec[3] - 2 * qvec[0] * qvec[1]],\n",
    "        [2 * qvec[3] * qvec[1] - 2 * qvec[0] * qvec[2],\n",
    "         2 * qvec[2] * qvec[3] + 2 * qvec[0] * qvec[1],\n",
    "         1 - 2 * qvec[1]**2 - 2 * qvec[2]**2]])    \n",
    "\n",
    "    \n",
    "def read_points3D_text(path):\n",
    "    \"\"\"\n",
    "    see: src/base/reconstruction.cc\n",
    "        void Reconstruction::ReadPoints3DText(const std::string& path)\n",
    "        void Reconstruction::WritePoints3DText(const std::string& path)\n",
    "    \"\"\"\n",
    "    points3D = {}\n",
    "    with open(path, \"r\") as fid:\n",
    "        while True:\n",
    "            line = fid.readline()\n",
    "            if not line:\n",
    "                break\n",
    "            line = line.strip()\n",
    "            if len(line) > 0 and line[0] != \"#\":\n",
    "                elems = line.split()\n",
    "                point3D_id = int(elems[0])\n",
    "                xyz = np.array(tuple(map(float, elems[1:4])))\n",
    "                rgb = np.array(tuple(map(int, elems[4:7])))\n",
    "                error = float(elems[7])\n",
    "                image_ids = np.array(tuple(map(int, elems[8::2])))\n",
    "                point2D_idxs = np.array(tuple(map(int, elems[9::2])))\n",
    "                points3D[point3D_id] = Point3D(id=point3D_id, xyz=xyz, rgb=rgb,\n",
    "                                               error=error, image_ids=image_ids,\n",
    "                                               point2D_idxs=point2D_idxs)\n",
    "    return points3D\n",
    "\n",
    "def read_images_text(path):\n",
    "    \"\"\"\n",
    "    see: src/base/reconstruction.cc\n",
    "        void Reconstruction::ReadImagesText(const std::string& path)\n",
    "        void Reconstruction::WriteImagesText(const std::string& path)\n",
    "    \"\"\"\n",
    "    images = {}\n",
    "    with open(path, \"r\") as fid:\n",
    "        while True:\n",
    "            line = fid.readline()\n",
    "            if not line:\n",
    "                break\n",
    "            line = line.strip()\n",
    "            if len(line) > 0 and line[0] != \"#\":\n",
    "                elems = line.split()\n",
    "                image_id = int(elems[0])\n",
    "                qvec = np.array(tuple(map(float, elems[1:5])))\n",
    "                tvec = np.array(tuple(map(float, elems[5:8])))\n",
    "                camera_id = int(elems[8])\n",
    "                image_name = elems[9]\n",
    "                elems = fid.readline().split()\n",
    "                xys = np.column_stack([tuple(map(float, elems[0::3])),\n",
    "                                       tuple(map(float, elems[1::3]))])\n",
    "                point3D_ids = np.array(tuple(map(int, elems[2::3])))\n",
    "                images[image_id] = Image(\n",
    "                    id=image_id, qvec=qvec, tvec=tvec,\n",
    "                    camera_id=camera_id, name=image_name,\n",
    "                    xys=xys, point3D_ids=point3D_ids)\n",
    "    return images\n",
    "\n",
    "def write_points3D_text(points3D, path):\n",
    "    \"\"\"\n",
    "    see: src/base/reconstruction.cc\n",
    "        void Reconstruction::ReadPoints3DText(const std::string& path)\n",
    "        void Reconstruction::WritePoints3DText(const std::string& path)\n",
    "    \"\"\"\n",
    "    if len(points3D) == 0:\n",
    "        mean_track_length = 0\n",
    "    else:\n",
    "        mean_track_length = sum((len(pt.image_ids) for _, pt in points3D.items()))/len(points3D)\n",
    "    HEADER = \"# 3D point list with one line of data per point:\\n\" + \\\n",
    "             \"#   POINT3D_ID, X, Y, Z, R, G, B, ERROR, TRACK[] as (IMAGE_ID, POINT2D_IDX)\\n\" + \\\n",
    "             \"# Number of points: {}, mean track length: {}\\n\".format(len(points3D), mean_track_length)\n",
    "\n",
    "    with open(path, \"w\") as fid:\n",
    "        fid.write(HEADER)\n",
    "        for _, pt in points3D.items():\n",
    "            point_header = [pt.id, *pt.xyz, *pt.rgb, pt.error]\n",
    "            fid.write(\" \".join(map(str, point_header)) + \" \")\n",
    "            track_strings = []\n",
    "            for image_id, point2D in zip(pt.image_ids, pt.point2D_idxs):\n",
    "                track_strings.append(\" \".join(map(str, [image_id, point2D])))\n",
    "            fid.write(\" \".join(track_strings) + \"\\n\")\n",
    "            \n",
    "def write_images_text(images, path):\n",
    "    \"\"\"\n",
    "    see: src/base/reconstruction.cc\n",
    "        void Reconstruction::ReadImagesText(const std::string& path)\n",
    "        void Reconstruction::WriteImagesText(const std::string& path)\n",
    "    \"\"\"\n",
    "    if len(images) == 0:\n",
    "        mean_observations = 0\n",
    "    else:\n",
    "        mean_observations = sum((len(img.point3D_ids) for _, img in images.items()))/len(images)\n",
    "    HEADER = \"# Image list with two lines of data per image:\\n\" + \\\n",
    "             \"#   IMAGE_ID, QW, QX, QY, QZ, TX, TY, TZ, CAMERA_ID, NAME\\n\" + \\\n",
    "             \"#   POINTS2D[] as (X, Y, POINT3D_ID)\\n\" + \\\n",
    "             \"# Number of images: {}, mean observations per image: {}\\n\".format(len(images), mean_observations)\n",
    "\n",
    "    with open(path, \"w\") as fid:\n",
    "        fid.write(HEADER)\n",
    "        for _, img in images.items():\n",
    "            image_header = [img.id, *img.qvec, *img.tvec, img.camera_id, img.name]\n",
    "            first_line = \" \".join(map(str, image_header))\n",
    "            fid.write(first_line + \"\\n\")\n",
    "\n",
    "            points_strings = []\n",
    "            for xy, point3D_id in zip(img.xys, img.point3D_ids):\n",
    "                points_strings.append(\" \".join(map(str, [*xy, point3D_id])))\n",
    "            fid.write(\" \".join(points_strings) + \"\\n\")"
   ]
  },
  {
   "cell_type": "markdown",
   "id": "9eaa78aa-5d2b-40e8-a2df-b7d6ae55d267",
   "metadata": {},
   "source": [
    "## Load txt files"
   ]
  },
  {
   "cell_type": "code",
   "execution_count": 31,
   "id": "02526602-dbb9-4520-92f4-816cdae87eb9",
   "metadata": {},
   "outputs": [],
   "source": [
    "pts = read_points3D_text(\"_COLMAP/Model/Text/points3D.txt\")"
   ]
  },
  {
   "cell_type": "code",
   "execution_count": 32,
   "id": "28ab571c-37b3-498e-a514-99b5e6ceda16",
   "metadata": {},
   "outputs": [],
   "source": [
    "ims = read_images_text(\"_COLMAP/Model/Text/images.txt\")"
   ]
  },
  {
   "cell_type": "markdown",
   "id": "15b5d7f6-f0ae-4501-9d16-0da8fe6a0337",
   "metadata": {
    "tags": []
   },
   "source": [
    "# Gettin Mapping from 3D to ImageID, X, Y"
   ]
  },
  {
   "cell_type": "markdown",
   "id": "b6b5d4ca-b315-4d30-b940-28b75e371f2d",
   "metadata": {},
   "source": [
    "Create dict going from 3D image IDs to all 2D image IDs that contrivute to point,\n",
    "in second step get mapping from 3D IDs to 2D IDs, 2D name, and XY-coordinates"
   ]
  },
  {
   "cell_type": "code",
   "execution_count": 35,
   "id": "ae475e33-1f7d-499a-9c84-f1583904d20e",
   "metadata": {},
   "outputs": [],
   "source": [
    "dict_3D_to_imageIDs = {}\n",
    "\n",
    "dict_3D_to_imageName_XY = {}\n",
    "\n",
    "for k in pts.keys():\n",
    "    dict_3D_to_imageIDs[k] = np.column_stack((pts[k].image_ids,pts[k].point2D_idxs))\n",
    "    #Left: imageId, right: index of x,y\n",
    "    \n",
    "for k in dict_3D_to_imageIDs.keys():\n",
    "    #Make list for all corresponding images\n",
    "    dict_3D_to_imageName_XY[k] = []\n",
    "    for tup in dict_3D_to_imageIDs[k]:\n",
    "        #For all images mentioend in 3D point, get tuple of name, imageID and X,Y\n",
    "        dict_3D_to_imageName_XY[k].append((ims[tup[0]].name, tup[1], list(np.rint(ims[tup[0]].xys[tup[1]]).astype(int))))"
   ]
  },
  {
   "cell_type": "markdown",
   "id": "e3f4ade6-2e4c-4acc-86e3-a0ddc4601d55",
   "metadata": {},
   "source": [
    "Load segmentation numpy 3D array (shape: #frames, width, height)"
   ]
  },
  {
   "cell_type": "code",
   "execution_count": 37,
   "id": "e53b524b-88e5-48fe-af15-620e68b474fc",
   "metadata": {},
   "outputs": [
    {
     "name": "stdout",
     "output_type": "stream",
     "text": [
      "(1050, 1080, 1920)\n"
     ]
    }
   ],
   "source": [
    "segmentation_labels = np.load(\"segmentation_offset10.npy\")\n",
    "print(segmentation_labels.shape)"
   ]
  },
  {
   "cell_type": "markdown",
   "id": "9505eb70-a1bb-4b56-af07-3c5d9340a682",
   "metadata": {},
   "source": [
    "Get mapping from 3D ID to all segmentation labels for this point"
   ]
  },
  {
   "cell_type": "code",
   "execution_count": 38,
   "id": "c422fa5b-b2c2-4891-8684-b2acdd5755a6",
   "metadata": {},
   "outputs": [],
   "source": [
    "import re\n",
    "\n",
    "dict_3D_to_labels = {}\n",
    "\n",
    "for k in dict_3D_to_imageName_XY:\n",
    "    label_list = []\n",
    "    for trip in dict_3D_to_imageName_XY[k]:\n",
    "        #Extract frame number from image name (e.g., \"out23.png\" -> 23)\n",
    "        frame_number = int(re.search(r'\\d+', trip[0]).group())\n",
    "        if (frame_number % 10 == 0):\n",
    "            frame_number /= 10\n",
    "            #Maybe x and y should be switched xD\n",
    "            x = dict_3D_to_imageName_XY[k][1][2][0]\n",
    "            y = dict_3D_to_imageName_XY[k][1][2][1]\n",
    "            label_list.append(segmentation_labels[int(frame_number)][y][x])\n",
    "    dict_3D_to_labels[k] = label_list"
   ]
  },
  {
   "cell_type": "markdown",
   "id": "84ac862a-4874-4dc2-86d5-9a68478a787e",
   "metadata": {},
   "source": [
    "Vote on labels for each 3D point, to have only one"
   ]
  },
  {
   "cell_type": "code",
   "execution_count": 39,
   "id": "e0842573-0c70-485c-94c1-1aec814d9215",
   "metadata": {},
   "outputs": [],
   "source": [
    "#Currently voting is just using most common (can be changed tho)\n",
    "\n",
    "from collections import Counter\n",
    "def Most_Common(lst):\n",
    "    if (lst):        \n",
    "        data = Counter(lst)\n",
    "        return int(data.most_common(1)[0][0])\n",
    "\n",
    "\n",
    "dict_3D_to_SINGLE_LABEL = {}\n",
    "\n",
    "for k in dict_3D_to_labels.keys():\n",
    "    # Use voting strategy on each label list\n",
    "    dict_3D_to_SINGLE_LABEL[k] = Most_Common(dict_3D_to_labels[k])"
   ]
  },
  {
   "cell_type": "markdown",
   "id": "8ceb3b46-1deb-445b-95e7-09dc2d140f4f",
   "metadata": {},
   "source": [
    "Hand made dict for colour labels (ugly!)"
   ]
  },
  {
   "cell_type": "code",
   "execution_count": 40,
   "id": "4dd29e30-6c9a-4468-b53a-d2e2e7247b35",
   "metadata": {},
   "outputs": [],
   "source": [
    "colours = {\n",
    "    0 : [120 , 120 , 120],\n",
    "    1 : [180 , 120 , 120],\n",
    "    2 : [6 , 230 , 230],\n",
    "    3 : [80 , 50 , 50],\n",
    "    4 : [4 , 200 , 3],\n",
    "    5 : [120 , 120 , 80],\n",
    "    6 : [140 , 140 , 140],\n",
    "    7 : [204 , 5 , 255],\n",
    "    8 : [230 , 230 , 230],\n",
    "    9 : [4 , 250 , 7],\n",
    "    10 : [224 , 5 , 255],\n",
    "    11 : [235 , 255 , 7],\n",
    "    12 : [150 , 5 , 61],\n",
    "    13 : [120 , 120 , 70],\n",
    "    14 : [8 , 255 , 51],\n",
    "    15 : [255 , 6 , 82],\n",
    "    16 : [143 , 255 , 140],\n",
    "    17 : [204 , 255 , 4],\n",
    "    18 : [255 , 51 , 7],\n",
    "    19 : [204 , 70 , 3],\n",
    "    20 : [0 , 102 , 200],\n",
    "    21 : [61 , 230 , 250],\n",
    "    22 : [255 , 6 , 51],\n",
    "    23 : [11 , 102 , 255],\n",
    "    24 : [255 , 7 , 71],\n",
    "    25 : [255 , 9 , 224],\n",
    "    26 : [9 , 7 , 230],\n",
    "    27 : [220 , 220 , 220],\n",
    "    28 : [255 , 9 , 92],\n",
    "    29 : [112 , 9 , 255],\n",
    "    30 : [8 , 255 , 214],\n",
    "    31 : [7 , 255 , 224],\n",
    "    32 : [255 , 184 , 6],\n",
    "    33 : [10 , 255 , 71],\n",
    "    34 : [255 , 41 , 10],\n",
    "    35 : [7 , 255 , 255],\n",
    "    36 : [224 , 255 , 8],\n",
    "    37 : [102 , 8 , 255],\n",
    "    38 : [255 , 61 , 6],\n",
    "    39 : [255 , 194 , 7],\n",
    "    40 : [255 , 122 , 8],\n",
    "    41 : [0 , 255 , 20],\n",
    "    42 : [255 , 8 , 41],\n",
    "    43 : [255 , 5 , 153],\n",
    "    44 : [6 , 51 , 255],\n",
    "    45 : [235 , 12 , 255],\n",
    "    46 : [160 , 150 , 20],\n",
    "    47 : [0 , 163 , 255],\n",
    "    48 : [140 , 140 , 140],\n",
    "    49 : [250 , 10 , 15],\n",
    "    50 : [20 , 255 , 0],\n",
    "    51 : [31 , 255 , 0],\n",
    "    52 : [255 , 31 , 0],\n",
    "    53 : [255 , 224 , 0],\n",
    "    54 : [153 , 255 , 0],\n",
    "    55 : [0 , 0 , 255],\n",
    "    56 : [255 , 71 , 0],\n",
    "    57 : [0 , 235 , 255],\n",
    "    58 : [0 , 173 , 255],\n",
    "    59 : [31 , 0 , 255],\n",
    "    60 : [11 , 200 , 200],\n",
    "    61 : [255 , 82 , 0],\n",
    "    62 : [0 , 255 , 245],\n",
    "    63 : [0 , 61 , 255],\n",
    "    64 : [0 , 255 , 112],\n",
    "    65 : [0 , 255 , 133],\n",
    "    66 : [255 , 0 , 0],\n",
    "    67 : [255 , 163 , 0],\n",
    "    68 : [255 , 102 , 0],\n",
    "    69 : [194 , 255 , 0],\n",
    "    70 : [0 , 143 , 255],\n",
    "    71 : [51 , 255 , 0],\n",
    "    72 : [0 , 82 , 255],\n",
    "    73 : [0 , 255 , 41],\n",
    "    74 : [0 , 255 , 173],\n",
    "    75 : [10 , 0 , 255],\n",
    "    76 : [173 , 255 , 0],\n",
    "    77 : [0 , 255 , 153],\n",
    "    78 : [255 , 92 , 0],\n",
    "    79 : [255 , 0 , 255],\n",
    "    80 : [255 , 0 , 245],\n",
    "    81 : [255 , 0 , 102],\n",
    "    82 : [255 , 173 , 0],\n",
    "    83 : [255 , 0 , 20],\n",
    "    84 : [255 , 184 , 184],\n",
    "    85 : [0 , 31 , 255],\n",
    "    86 : [0 , 255 , 61],\n",
    "    87 : [0 , 71 , 255],\n",
    "    88 : [255 , 0 , 204],\n",
    "    89 : [0 , 255 , 194],\n",
    "    90 : [0 , 255 , 82],\n",
    "    91 : [0 , 10 , 255],\n",
    "    92 : [0 , 112 , 255],\n",
    "    93 : [51 , 0 , 255],\n",
    "    94 : [0 , 194 , 255],\n",
    "    95 : [0 , 122 , 255],\n",
    "    96 : [0 , 255 , 163],\n",
    "    97 : [255 , 153 , 0],\n",
    "    98 : [0 , 255 , 10],\n",
    "    99 : [255 , 112 , 0],\n",
    "    100 : [143 , 255 , 0],\n",
    "    101 : [82 , 0 , 255],\n",
    "    102 : [163 , 255 , 0],\n",
    "    103 : [255 , 235 , 0],\n",
    "    104 : [8 , 184 , 170],\n",
    "    105 : [133 , 0 , 255],\n",
    "    106 : [0 , 255 , 92],\n",
    "    107 : [184 , 0 , 255],\n",
    "    108 : [255 , 0 , 31],\n",
    "    109 : [0 , 184 , 255],\n",
    "    110 : [0 , 214 , 255],\n",
    "    111 : [255 , 0 , 112],\n",
    "    112 : [92 , 255 , 0],\n",
    "    113 : [0 , 224 , 255],\n",
    "    114 : [112 , 224 , 255],\n",
    "    115 : [70 , 184 , 160],\n",
    "    116 : [163 , 0 , 255],\n",
    "    117 : [153 , 0 , 255],\n",
    "    118 : [71 , 255 , 0],\n",
    "    119 : [255 , 0 , 163],\n",
    "    120 : [255 , 204 , 0],\n",
    "    121 : [255 , 0 , 143],\n",
    "    122 : [0 , 255 , 235],\n",
    "    123 : [133 , 255 , 0],\n",
    "    124 : [255 , 0 , 235],\n",
    "    125 : [245 , 0 , 255],\n",
    "    126 : [255 , 0 , 122],\n",
    "    127 : [255 , 245 , 0],\n",
    "    128 : [10 , 190 , 212],\n",
    "    129 : [214 , 255 , 0],\n",
    "    130 : [0 , 204 , 255],\n",
    "    131 : [20 , 0 , 255],\n",
    "    132 : [255 , 255 , 0],\n",
    "    133 : [0 , 153 , 255],\n",
    "    134 : [0 , 41 , 255],\n",
    "    135 : [0 , 255 , 204],\n",
    "    136 : [41 , 0 , 255],\n",
    "    137 : [41 , 255 , 0],\n",
    "    138 : [173 , 0 , 255],\n",
    "    139 : [0 , 245 , 255],\n",
    "    140 : [71 , 0 , 255],\n",
    "    141 : [122 , 0 , 255],\n",
    "    142 : [0 , 255 , 184],\n",
    "    143 : [0 , 92 , 255],\n",
    "    144 : [184 , 255 , 0],\n",
    "    145 : [0 , 133 , 255],\n",
    "    146 : [255 , 214 , 0],\n",
    "    147 : [25 , 194 , 194],\n",
    "    148 : [102 , 255 , 0],\n",
    "    149 : [92 , 0 , 255]\n",
    "}"
   ]
  },
  {
   "cell_type": "markdown",
   "id": "611ec6f1-9e3b-4c7a-b6fb-fa33639f5665",
   "metadata": {},
   "source": [
    "## Create mapping from 3D ID to final segmentation colour"
   ]
  },
  {
   "cell_type": "code",
   "execution_count": 41,
   "id": "0a938684-5172-43ce-94b2-3f443f55e3d9",
   "metadata": {},
   "outputs": [],
   "source": [
    "dict_3D_to_RGB = {}\n",
    "\n",
    "for k in dict_3D_to_SINGLE_LABEL.keys():\n",
    "    #Only change colour if label list has voted for one label\n",
    "    if (dict_3D_to_SINGLE_LABEL[k]):\n",
    "        dict_3D_to_RGB[k] = colours[dict_3D_to_SINGLE_LABEL[k]]"
   ]
  },
  {
   "cell_type": "markdown",
   "id": "fa62d9b2-2ae6-4be1-a1d7-78ca553d4f2d",
   "metadata": {},
   "source": [
    "Sanity check:"
   ]
  },
  {
   "cell_type": "code",
   "execution_count": 42,
   "id": "ef914fab-f646-4569-9ff4-6149ea5d3ee1",
   "metadata": {},
   "outputs": [
    {
     "name": "stdout",
     "output_type": "stream",
     "text": [
      "449222\n",
      "[0, 235, 255]\n",
      "258968\n",
      "[80, 50, 50]\n",
      "293614\n",
      "[120, 120, 80]\n",
      "424636\n",
      "[80, 50, 50]\n",
      "105764\n",
      "[80, 50, 50]\n",
      "104390\n",
      "[120, 120, 80]\n",
      "608756\n",
      "[80, 50, 50]\n",
      "476562\n",
      "[224, 5, 255]\n",
      "99441\n",
      "[0, 255, 194]\n",
      "304635\n",
      "[224, 255, 8]\n"
     ]
    }
   ],
   "source": [
    "tmp = 10\n",
    "\n",
    "for k in dict_3D_to_RGB.keys():\n",
    "    if(tmp == 0):\n",
    "        break\n",
    "    print(k)\n",
    "    print(dict_3D_to_RGB[k])\n",
    "    #print(dict_3D_to_imageName_XY[k][1][1][1])\n",
    "    tmp-=1\n",
    "    "
   ]
  },
  {
   "cell_type": "markdown",
   "id": "213bd784-8bad-444a-bf34-c9c18ae30e7e",
   "metadata": {},
   "source": [
    "## Change colour of all segmentated points in txt file"
   ]
  },
  {
   "cell_type": "code",
   "execution_count": 43,
   "id": "a4a3a052-5716-457a-bde9-a42167826b9a",
   "metadata": {},
   "outputs": [],
   "source": [
    "keys = dict_3D_to_RGB.keys()\n",
    "\n",
    "for k in keys:\n",
    "    pts[k] = pts[k]._replace(rgb=dict_3D_to_RGB[k])"
   ]
  },
  {
   "cell_type": "code",
   "execution_count": 44,
   "id": "7600d378-4fde-46b4-b934-63d711f418b7",
   "metadata": {},
   "outputs": [],
   "source": [
    "write_points3D_text(pts, \"_COLMAP/Model/Text/points3D.txt\")\n",
    "#write_images_text(ims, \"_COLMAP/Model/Text/images.txt\")"
   ]
  },
  {
   "cell_type": "code",
   "execution_count": 45,
   "id": "76215154-baf9-42ad-aa61-c1efb8d2771f",
   "metadata": {},
   "outputs": [
    {
     "name": "stdout",
     "output_type": "stream",
     "text": [
      "126902\n"
     ]
    }
   ],
   "source": [
    "print(len(dict_3D_to_RGB))"
   ]
  },
  {
   "cell_type": "code",
   "execution_count": null,
   "id": "18ebd0ff-3d12-4fec-b34a-d72a2fad6e10",
   "metadata": {},
   "outputs": [],
   "source": []
  }
 ],
 "metadata": {
  "kernelspec": {
   "display_name": "Python 3 (ipykernel)",
   "language": "python",
   "name": "python3"
  },
  "language_info": {
   "codemirror_mode": {
    "name": "ipython",
    "version": 3
   },
   "file_extension": ".py",
   "mimetype": "text/x-python",
   "name": "python",
   "nbconvert_exporter": "python",
   "pygments_lexer": "ipython3",
   "version": "3.10.9"
  }
 },
 "nbformat": 4,
 "nbformat_minor": 5
}
